{
 "cells": [
  {
   "cell_type": "code",
   "execution_count": 2,
   "metadata": {},
   "outputs": [
    {
     "data": {
      "text/plain": [
       "'1.7.1'"
      ]
     },
     "execution_count": 2,
     "metadata": {},
     "output_type": "execute_result"
    }
   ],
   "source": [
    "import torch\n",
    "import torch.nn as nn\n",
    "import numpy as np\n",
    "torch.__version__"
   ]
  },
  {
   "cell_type": "markdown",
   "metadata": {},
   "source": [
    "# logistic回归实战\n",
    "在这一章里面，我们将处理一下结构化数据，并使用logistic回归对结构化数据进行简单的分类。\n",
    "## logistic回归介绍\n",
    "logistic回归是一种广义线性回归（generalized linear model），与多重线性回归分析有很多相同之处。它们的模型形式基本上相同，都具有 wx + b，其中w和b是待求参数，其区别在于他们的因变量不同，多重线性回归直接将wx+b作为因变量，即y =wx+b,而logistic回归则通过函数L将wx+b对应一个隐状态p，p =L(wx+b),然后根据p 与1-p的大小决定因变量的值。如果L是logistic函数，就是logistic回归，如果L是多项式函数就是多项式回归。\n",
    "\n",
    "说的更通俗一点，就是logistic回归会在线性回归后再加一层logistic函数的调用。\n",
    "\n",
    "logistic回归主要是进行二分类预测，我们在激活函数时候讲到过 Sigmod函数，Sigmod函数是最常见的logistic函数，因为Sigmod函数的输出的是是对于0~1之间的概率值，当概率大于0.5预测为1，小于0.5预测为0。\n",
    "\n",
    "下面我们就来使用公开的数据来进行介绍"
   ]
  },
  {
   "cell_type": "markdown",
   "metadata": {},
   "source": [
    "## UCI German Credit  数据集\n",
    "\n",
    "UCI German Credit是UCI的德国信用数据集，里面有原数据和数值化后的数据。\n",
    "\n",
    "German Credit数据是根据个人的银行贷款信息和申请客户贷款逾期发生情况来预测贷款违约倾向的数据集，数据集包含24个维度的，1000条数据，\n",
    "\n",
    "在这里我们直接使用处理好的数值化的数据，作为展示。\n",
    "\n",
    "[地址](https://archive.ics.uci.edu/ml/machine-learning-databases/statlog/german/)"
   ]
  },
  {
   "cell_type": "markdown",
   "metadata": {},
   "source": [
    "## 代码实战\n",
    "我们这里使用的 german.data-numeric是numpy处理好数值化数据，我们直接使用numpy的load方法读取即可"
   ]
  },
  {
   "cell_type": "code",
   "execution_count": 3,
   "metadata": {},
   "outputs": [],
   "source": [
    "data=np.loadtxt(\"german.data-numeric\")"
   ]
  },
  {
   "cell_type": "markdown",
   "metadata": {},
   "source": [
    "数据读取完成后我们要对数据做一下归一化的处理"
   ]
  },
  {
   "cell_type": "code",
   "execution_count": 4,
   "metadata": {},
   "outputs": [],
   "source": [
    "n,l=data.shape\n",
    "for j in range(l-1):\n",
    "    meanVal=np.mean(data[:,j])\n",
    "    stdVal=np.std(data[:,j])\n",
    "    data[:,j]=(data[:,j]-meanVal)/stdVal"
   ]
  },
  {
   "cell_type": "markdown",
   "metadata": {},
   "source": [
    "打乱数据"
   ]
  },
  {
   "cell_type": "code",
   "execution_count": 5,
   "metadata": {},
   "outputs": [],
   "source": [
    "np.random.shuffle(data)"
   ]
  },
  {
   "cell_type": "markdown",
   "metadata": {},
   "source": [
    "区分训练集和测试集，由于这里没有验证集，所以我们直接使用测试集的准确度作为评判好坏的标准\n",
    "\n",
    "区分规则：900条用于训练，100条作为测试\n",
    "\n",
    "german.data-numeric的格式为，前24列为24个维度，最后一个为要打的标签（0，1），所以我们将数据和标签一起区分出来"
   ]
  },
  {
   "cell_type": "code",
   "execution_count": 6,
   "metadata": {},
   "outputs": [],
   "source": [
    "train_data=data[:900,:l-1]\n",
    "train_lab=data[:900,l-1]-1\n",
    "test_data=data[900:,:l-1]\n",
    "test_lab=data[900:,l-1]-1"
   ]
  },
  {
   "cell_type": "markdown",
   "metadata": {},
   "source": [
    "【TODO】定义模型，训练，测试"
   ]
  },
  {
   "cell_type": "code",
   "execution_count": 7,
   "metadata": {},
   "outputs": [
    {
     "name": "stdout",
     "output_type": "stream",
     "text": [
      "epoch: 10, loss: 0.6912, acc: 0.5500\n",
      "epoch: 20, loss: 0.6790, acc: 0.6200\n",
      "epoch: 30, loss: 0.6677, acc: 0.6800\n",
      "epoch: 40, loss: 0.6574, acc: 0.7300\n",
      "epoch: 50, loss: 0.6482, acc: 0.7500\n",
      "epoch: 60, loss: 0.6398, acc: 0.7600\n",
      "epoch: 70, loss: 0.6322, acc: 0.7800\n",
      "epoch: 80, loss: 0.6254, acc: 0.7800\n",
      "epoch: 90, loss: 0.6193, acc: 0.7900\n",
      "epoch: 100, loss: 0.6138, acc: 0.8000\n",
      "epoch: 110, loss: 0.6088, acc: 0.7900\n",
      "epoch: 120, loss: 0.6042, acc: 0.7800\n",
      "epoch: 130, loss: 0.6001, acc: 0.7800\n",
      "epoch: 140, loss: 0.5963, acc: 0.7800\n",
      "epoch: 150, loss: 0.5929, acc: 0.7800\n",
      "epoch: 160, loss: 0.5897, acc: 0.7800\n",
      "epoch: 170, loss: 0.5868, acc: 0.7800\n",
      "epoch: 180, loss: 0.5842, acc: 0.7800\n",
      "epoch: 190, loss: 0.5817, acc: 0.7800\n",
      "epoch: 200, loss: 0.5794, acc: 0.7900\n",
      "epoch: 210, loss: 0.5772, acc: 0.7700\n",
      "epoch: 220, loss: 0.5753, acc: 0.7700\n",
      "epoch: 230, loss: 0.5734, acc: 0.7700\n",
      "epoch: 240, loss: 0.5717, acc: 0.7700\n",
      "epoch: 250, loss: 0.5701, acc: 0.7800\n",
      "epoch: 260, loss: 0.5685, acc: 0.7800\n",
      "epoch: 270, loss: 0.5671, acc: 0.7800\n",
      "epoch: 280, loss: 0.5657, acc: 0.7900\n",
      "epoch: 290, loss: 0.5645, acc: 0.7900\n",
      "epoch: 300, loss: 0.5633, acc: 0.7800\n",
      "epoch: 310, loss: 0.5621, acc: 0.7800\n",
      "epoch: 320, loss: 0.5610, acc: 0.7800\n",
      "epoch: 330, loss: 0.5600, acc: 0.7800\n",
      "epoch: 340, loss: 0.5590, acc: 0.7800\n",
      "epoch: 350, loss: 0.5581, acc: 0.7800\n",
      "epoch: 360, loss: 0.5572, acc: 0.7800\n",
      "epoch: 370, loss: 0.5564, acc: 0.7800\n",
      "epoch: 380, loss: 0.5556, acc: 0.7800\n",
      "epoch: 390, loss: 0.5548, acc: 0.7800\n",
      "epoch: 400, loss: 0.5540, acc: 0.7800\n",
      "epoch: 410, loss: 0.5533, acc: 0.7800\n",
      "epoch: 420, loss: 0.5527, acc: 0.7800\n",
      "epoch: 430, loss: 0.5520, acc: 0.7800\n",
      "epoch: 440, loss: 0.5514, acc: 0.7800\n",
      "epoch: 450, loss: 0.5508, acc: 0.7800\n",
      "epoch: 460, loss: 0.5502, acc: 0.7800\n",
      "epoch: 470, loss: 0.5496, acc: 0.7800\n",
      "epoch: 480, loss: 0.5491, acc: 0.7800\n",
      "epoch: 490, loss: 0.5486, acc: 0.7800\n",
      "epoch: 500, loss: 0.5481, acc: 0.7800\n"
     ]
    }
   ],
   "source": [
    "from torch.autograd import Variable\n",
    "\n",
    "# 定义模型\n",
    "class Logistic(nn.Module):\n",
    "    def __init__(self):\n",
    "        super(Logistic, self).__init__()\n",
    "        self.linear = nn.Linear(24,2)\n",
    "        self.sigmoid = nn.Sigmoid()\n",
    "        \n",
    "    def forward(self, x):\n",
    "        y = self.linear(x)\n",
    "        y = self.sigmoid(y)\n",
    "        return y\n",
    "    \n",
    "\n",
    "model = Logistic()\n",
    "criterion = nn.CrossEntropyLoss() \n",
    "optimizer = torch.optim.SGD(model.parameters(), lr = 0.1)\n",
    "epochs = 500\n",
    "costs = []\n",
    "accs = []\n",
    "    \n",
    "\n",
    "# 训练\n",
    "for i in range(epochs):\n",
    "\n",
    "    model.train()\n",
    "\n",
    "    # input data -> tensor\n",
    "    x = Variable(torch.from_numpy(train_data).float())\n",
    "    y = Variable(torch.from_numpy(train_lab).long())\n",
    "    \n",
    "    out = model(x)\n",
    "    loss = criterion(out, y) \n",
    "    optimizer.zero_grad()\n",
    "    costs.append(loss.data.item())\n",
    "    loss.backward() \n",
    "    optimizer.step() \n",
    "    \n",
    "   \n",
    "    model.eval()\n",
    "    test_data2 = torch.from_numpy(test_data).float()\n",
    "    test_lab2 = torch.from_numpy(test_lab).long()\n",
    "    test_out = model(test_data2)\n",
    "        \n",
    "    # 测试\n",
    "    t = test_out.max(-1)[1] == test_lab2\n",
    "    acc = torch.mean(t.float())\n",
    "    accs.append(acc)\n",
    "    \n",
    "    if (i+1)%10 == 0:    \n",
    "        print(\"epoch: {}, loss: {:.4f}, acc: {:.4f}\".format(i+1, loss.item(), acc))\n",
    "    \n",
    "    \n"
   ]
  },
  {
   "cell_type": "code",
   "execution_count": 8,
   "metadata": {},
   "outputs": [
    {
     "data": {
      "image/png": "[encoded data removed]",
      "text/plain": [
       "<Figure size 432x288 with 1 Axes>"
      ]
     },
     "metadata": {
      "needs_background": "light"
     },
     "output_type": "display_data"
    },
    {
     "data": {
      "image/png": "[encoded data removed]",
      "text/plain": [
       "<Figure size 432x288 with 1 Axes>"
      ]
     },
     "metadata": {
      "needs_background": "light"
     },
     "output_type": "display_data"
    }
   ],
   "source": [
    "# 图像\n",
    "# costs 损失函数图像\n",
    "import matplotlib.pyplot as plt\n",
    "plt.plot(costs)\n",
    "plt.show(range(len(costs)), costs)\n",
    "\n",
    "# acc 图像\n",
    "plt.plot(accs)\n",
    "plt.show(range(len(accs)),accs)"
   ]
  },
  {
   "cell_type": "code",
   "execution_count": null,
   "metadata": {},
   "outputs": [],
   "source": []
  },
  {
   "cell_type": "code",
   "execution_count": null,
   "metadata": {},
   "outputs": [],
   "source": []
  },
  {
   "cell_type": "code",
   "execution_count": null,
   "metadata": {},
   "outputs": [],
   "source": []
  }
 ],
 "metadata": {
  "kernelspec": {
   "display_name": "Python 3",
   "language": "python",
   "name": "python3"
  },
  "language_info": {
   "codemirror_mode": {
    "name": "ipython",
    "version": 3
   },
   "file_extension": ".py",
   "mimetype": "text/x-python",
   "name": "python",
   "nbconvert_exporter": "python",
   "pygments_lexer": "ipython3",
   "version": "3.8.3"
  }
 },
 "nbformat": 4,
 "nbformat_minor": 4
}
